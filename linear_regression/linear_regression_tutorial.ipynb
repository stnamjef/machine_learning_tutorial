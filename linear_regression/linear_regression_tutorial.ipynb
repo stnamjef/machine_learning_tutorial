{
 "cells": [
  {
   "cell_type": "markdown",
   "metadata": {},
   "source": [
    "# 1. 라이브러리 import "
   ]
  },
  {
   "cell_type": "markdown",
   "metadata": {},
   "source": [
    "- numpy, pyplot, pandas, statsmodels 를 입력합니다.\n",
    "\n"
   ]
  },
  {
   "cell_type": "code",
   "execution_count": 1,
   "metadata": {
    "slideshow": {
     "slide_type": "slide"
    }
   },
   "outputs": [],
   "source": [
    "import numpy as np\n",
    "import matplotlib.pyplot as plt\n",
    "import pandas as pd\n",
    "from statsmodels import api\n",
    "\n",
    "%matplotlib inline"
   ]
  },
  {
   "cell_type": "markdown",
   "metadata": {},
   "source": [
    "# 2. 분석할 데이터 가져오기"
   ]
  },
  {
   "cell_type": "markdown",
   "metadata": {},
   "source": [
    "- statsmodels 에서 제공하는 데이터를 이용했습니다.\n",
    "\n",
    "\n",
    "- 데이터는 \"Income and food expenditure for 235 working class households in 1857 Begium\"입니다.\n",
    "\n",
    "\n",
    "- 데이터프레임에서 볼 수 있듯이 컬럼으로 소득(income)과 식료품지출(foodexp)이 있습니다.\n",
    "\n"
   ]
  },
  {
   "cell_type": "code",
   "execution_count": 32,
   "metadata": {
    "slideshow": {
     "slide_type": "subslide"
    }
   },
   "outputs": [],
   "source": [
    "df = api.datasets.engel.load_pandas().data"
   ]
  },
  {
   "cell_type": "code",
   "execution_count": 37,
   "metadata": {
    "slideshow": {
     "slide_type": "subslide"
    }
   },
   "outputs": [
    {
     "data": {
      "text/html": [
       "<div>\n",
       "<style scoped>\n",
       "    .dataframe tbody tr th:only-of-type {\n",
       "        vertical-align: middle;\n",
       "    }\n",
       "\n",
       "    .dataframe tbody tr th {\n",
       "        vertical-align: top;\n",
       "    }\n",
       "\n",
       "    .dataframe thead th {\n",
       "        text-align: right;\n",
       "    }\n",
       "</style>\n",
       "<table border=\"1\" class=\"dataframe\">\n",
       "  <thead>\n",
       "    <tr style=\"text-align: right;\">\n",
       "      <th></th>\n",
       "      <th>income</th>\n",
       "      <th>foodexp</th>\n",
       "    </tr>\n",
       "  </thead>\n",
       "  <tbody>\n",
       "    <tr>\n",
       "      <th>0</th>\n",
       "      <td>420.157651</td>\n",
       "      <td>255.839425</td>\n",
       "    </tr>\n",
       "    <tr>\n",
       "      <th>1</th>\n",
       "      <td>541.411707</td>\n",
       "      <td>310.958667</td>\n",
       "    </tr>\n",
       "    <tr>\n",
       "      <th>2</th>\n",
       "      <td>901.157457</td>\n",
       "      <td>485.680014</td>\n",
       "    </tr>\n",
       "    <tr>\n",
       "      <th>3</th>\n",
       "      <td>639.080229</td>\n",
       "      <td>402.997356</td>\n",
       "    </tr>\n",
       "    <tr>\n",
       "      <th>4</th>\n",
       "      <td>750.875606</td>\n",
       "      <td>495.560775</td>\n",
       "    </tr>\n",
       "    <tr>\n",
       "      <th>5</th>\n",
       "      <td>945.798931</td>\n",
       "      <td>633.797815</td>\n",
       "    </tr>\n",
       "    <tr>\n",
       "      <th>6</th>\n",
       "      <td>829.397887</td>\n",
       "      <td>630.756568</td>\n",
       "    </tr>\n",
       "    <tr>\n",
       "      <th>7</th>\n",
       "      <td>979.164836</td>\n",
       "      <td>700.440904</td>\n",
       "    </tr>\n",
       "    <tr>\n",
       "      <th>8</th>\n",
       "      <td>1309.878940</td>\n",
       "      <td>830.958622</td>\n",
       "    </tr>\n",
       "    <tr>\n",
       "      <th>9</th>\n",
       "      <td>1492.398744</td>\n",
       "      <td>815.360217</td>\n",
       "    </tr>\n",
       "  </tbody>\n",
       "</table>\n",
       "</div>"
      ],
      "text/plain": [
       "        income     foodexp\n",
       "0   420.157651  255.839425\n",
       "1   541.411707  310.958667\n",
       "2   901.157457  485.680014\n",
       "3   639.080229  402.997356\n",
       "4   750.875606  495.560775\n",
       "5   945.798931  633.797815\n",
       "6   829.397887  630.756568\n",
       "7   979.164836  700.440904\n",
       "8  1309.878940  830.958622\n",
       "9  1492.398744  815.360217"
      ]
     },
     "execution_count": 37,
     "metadata": {},
     "output_type": "execute_result"
    }
   ],
   "source": [
    "df.head(10)"
   ]
  },
  {
   "cell_type": "markdown",
   "metadata": {},
   "source": [
    "- 식료품지출과 소득 대비 식료품지출(foodexp/income)의 관계를 알아보겠습니다.\n",
    "\n",
    "\n",
    "- 이를 위해 먼저 'food/income' 컬럼을 만들고 값을 계산해 넣어줍니다.\n",
    "\n"
   ]
  },
  {
   "cell_type": "code",
   "execution_count": 40,
   "metadata": {
    "slideshow": {
     "slide_type": "slide"
    }
   },
   "outputs": [],
   "source": [
    "df['food/income'] = df['foodexp'] / df['income']\n",
    "df = df.drop(df.loc[df['income'] > 4000].index)"
   ]
  },
  {
   "cell_type": "code",
   "execution_count": 41,
   "metadata": {
    "slideshow": {
     "slide_type": "subslide"
    }
   },
   "outputs": [
    {
     "data": {
      "text/html": [
       "<div>\n",
       "<style scoped>\n",
       "    .dataframe tbody tr th:only-of-type {\n",
       "        vertical-align: middle;\n",
       "    }\n",
       "\n",
       "    .dataframe tbody tr th {\n",
       "        vertical-align: top;\n",
       "    }\n",
       "\n",
       "    .dataframe thead th {\n",
       "        text-align: right;\n",
       "    }\n",
       "</style>\n",
       "<table border=\"1\" class=\"dataframe\">\n",
       "  <thead>\n",
       "    <tr style=\"text-align: right;\">\n",
       "      <th></th>\n",
       "      <th>income</th>\n",
       "      <th>foodexp</th>\n",
       "      <th>food/income</th>\n",
       "    </tr>\n",
       "  </thead>\n",
       "  <tbody>\n",
       "    <tr>\n",
       "      <th>0</th>\n",
       "      <td>420.157651</td>\n",
       "      <td>255.839425</td>\n",
       "      <td>0.608913</td>\n",
       "    </tr>\n",
       "    <tr>\n",
       "      <th>1</th>\n",
       "      <td>541.411707</td>\n",
       "      <td>310.958667</td>\n",
       "      <td>0.574348</td>\n",
       "    </tr>\n",
       "    <tr>\n",
       "      <th>2</th>\n",
       "      <td>901.157457</td>\n",
       "      <td>485.680014</td>\n",
       "      <td>0.538951</td>\n",
       "    </tr>\n",
       "    <tr>\n",
       "      <th>3</th>\n",
       "      <td>639.080229</td>\n",
       "      <td>402.997356</td>\n",
       "      <td>0.630590</td>\n",
       "    </tr>\n",
       "    <tr>\n",
       "      <th>4</th>\n",
       "      <td>750.875606</td>\n",
       "      <td>495.560775</td>\n",
       "      <td>0.659977</td>\n",
       "    </tr>\n",
       "    <tr>\n",
       "      <th>5</th>\n",
       "      <td>945.798931</td>\n",
       "      <td>633.797815</td>\n",
       "      <td>0.670119</td>\n",
       "    </tr>\n",
       "    <tr>\n",
       "      <th>6</th>\n",
       "      <td>829.397887</td>\n",
       "      <td>630.756568</td>\n",
       "      <td>0.760499</td>\n",
       "    </tr>\n",
       "    <tr>\n",
       "      <th>7</th>\n",
       "      <td>979.164836</td>\n",
       "      <td>700.440904</td>\n",
       "      <td>0.715345</td>\n",
       "    </tr>\n",
       "    <tr>\n",
       "      <th>8</th>\n",
       "      <td>1309.878940</td>\n",
       "      <td>830.958622</td>\n",
       "      <td>0.634378</td>\n",
       "    </tr>\n",
       "    <tr>\n",
       "      <th>9</th>\n",
       "      <td>1492.398744</td>\n",
       "      <td>815.360217</td>\n",
       "      <td>0.546342</td>\n",
       "    </tr>\n",
       "  </tbody>\n",
       "</table>\n",
       "</div>"
      ],
      "text/plain": [
       "        income     foodexp  food/income\n",
       "0   420.157651  255.839425     0.608913\n",
       "1   541.411707  310.958667     0.574348\n",
       "2   901.157457  485.680014     0.538951\n",
       "3   639.080229  402.997356     0.630590\n",
       "4   750.875606  495.560775     0.659977\n",
       "5   945.798931  633.797815     0.670119\n",
       "6   829.397887  630.756568     0.760499\n",
       "7   979.164836  700.440904     0.715345\n",
       "8  1309.878940  830.958622     0.634378\n",
       "9  1492.398744  815.360217     0.546342"
      ]
     },
     "execution_count": 41,
     "metadata": {},
     "output_type": "execute_result"
    }
   ],
   "source": [
    "df.head(10)"
   ]
  },
  {
   "cell_type": "markdown",
   "metadata": {},
   "source": [
    "\n",
    "\n",
    "- 그래프를 그릴 때 편리하게 하기 위하여 '소득' 컬럼을 기준으로 정렬합니다.\n",
    "\n"
   ]
  },
  {
   "cell_type": "code",
   "execution_count": 12,
   "metadata": {
    "slideshow": {
     "slide_type": "subslide"
    }
   },
   "outputs": [],
   "source": [
    "df = df.sort_values(by = 'income')\n",
    "df = df.reset_index(drop = True)"
   ]
  },
  {
   "cell_type": "markdown",
   "metadata": {},
   "source": [
    "# 3. 그래프"
   ]
  },
  {
   "cell_type": "markdown",
   "metadata": {},
   "source": [
    "- pyplot을 이용하여 '소득 대비 식료품지출'과 '소득' 간의 관계를 그래프로 나타냅니다.\n",
    "\n",
    "\n",
    "- 그 결과 소득이 높을수록 소득에서 식료품 지출이 차지하는 비율이 낮아진다는 것을 알 수 있습니다.\n",
    "\n",
    "\n",
    "- 'food/income'과 'income'은 음의 상관관계를 보입니다.\n",
    "\n"
   ]
  },
  {
   "cell_type": "code",
   "execution_count": 13,
   "metadata": {
    "scrolled": false,
    "slideshow": {
     "slide_type": "slide"
    }
   },
   "outputs": [
    {
     "data": {
      "text/plain": [
       "Text(0, 0.5, 'Annual household food expenditure')"
      ]
     },
     "execution_count": 13,
     "metadata": {},
     "output_type": "execute_result"
    },
    {
     "data": {
      "image/png": "[encoded data removed]",
      "text/plain": [
       "<Figure size 1080x720 with 1 Axes>"
      ]
     },
     "metadata": {
      "needs_background": "light"
     },
     "output_type": "display_data"
    }
   ],
   "source": [
    "plt.figure(figsize = (15, 10))\n",
    "plt.scatter(df['income'], df['food/income'])\n",
    "plt.title('Income and food expenditure for 235 working class households in 1857 Belgium', fontsize = 20, pad = 20)\n",
    "plt.xticks(fontsize = 15)\n",
    "plt.yticks(fontsize = 15)\n",
    "plt.xlabel('Annual household income', fontsize = 20, labelpad = 15)\n",
    "plt.ylabel('Annual household food expenditure', fontsize = 20, labelpad = 15)"
   ]
  },
  {
   "cell_type": "markdown",
   "metadata": {},
   "source": [
    "# 4. 선형회귀분석"
   ]
  },
  {
   "cell_type": "markdown",
   "metadata": {},
   "source": [
    "- 선형회귀분석을 하기 위해 데이터를 준비합니다.\n",
    "\n",
    "\n",
    "- 'income' 컬럼을 독립변수로 하고, 'food/income' 컬럼을 종속변수로 설정합니다.\n",
    "\n",
    "\n",
    "- statsmodels.api.add_constant() 메소드를 사용해 'y 절편'을 추가합니다.\n",
    "\n"
   ]
  },
  {
   "cell_type": "code",
   "execution_count": 42,
   "metadata": {
    "slideshow": {
     "slide_type": "slide"
    }
   },
   "outputs": [],
   "source": [
    "x = api.add_constant(df['income'].values)\n",
    "y = df['food/income'].values\n",
    "res = api.OLS(y, x).fit()"
   ]
  },
  {
   "cell_type": "markdown",
   "metadata": {},
   "source": [
    "- 아래의 결과를 해석하면 다음과 같습니다.\n",
    "\n",
    "\n",
    "- const coef와 x1 coef는 각각 표본회귀식 Y_i = a + b X_i + e_i의 a와 b를 의미합니다.\n",
    "\n",
    "\n",
    "- 그리고 그 값은 결과에서 볼 수 있듯이 각각 0.7303, -7.595e-05 입니다. 즉 Y_i = 0.7303 + (-7.595e-05)X_i + e_i 로 표현이 가능합니다.\n",
    "\n",
    "\n",
    "- 한편 이 계수들은 p-value 로 미루어 보아 모두 통계적으로 유의미합니다.\n",
    "\n",
    "\n",
    "- 그러나 결정계수 R^2 값이 낮은 것으로 볼 때, 회귀식의 설명력은 약한 것으로 판단됩니다.\n",
    "\n",
    "\n",
    "- 이는 아래의 그래프에서 회귀선을 중심으로 데이터가 멀리 퍼져있는 모습에서 확인할 수 있습니다.\n",
    "\n"
   ]
  },
  {
   "cell_type": "code",
   "execution_count": 15,
   "metadata": {
    "slideshow": {
     "slide_type": "subslide"
    }
   },
   "outputs": [
    {
     "data": {
      "text/html": [
       "<table class=\"simpletable\">\n",
       "<caption>OLS Regression Results</caption>\n",
       "<tr>\n",
       "  <th>Dep. Variable:</th>            <td>y</td>        <th>  R-squared:         </th> <td>   0.138</td>\n",
       "</tr>\n",
       "<tr>\n",
       "  <th>Model:</th>                   <td>OLS</td>       <th>  Adj. R-squared:    </th> <td>   0.135</td>\n",
       "</tr>\n",
       "<tr>\n",
       "  <th>Method:</th>             <td>Least Squares</td>  <th>  F-statistic:       </th> <td>   37.22</td>\n",
       "</tr>\n",
       "<tr>\n",
       "  <th>Date:</th>             <td>Thu, 12 Sep 2019</td> <th>  Prob (F-statistic):</th> <td>4.39e-09</td>\n",
       "</tr>\n",
       "<tr>\n",
       "  <th>Time:</th>                 <td>12:53:22</td>     <th>  Log-Likelihood:    </th> <td>  244.31</td>\n",
       "</tr>\n",
       "<tr>\n",
       "  <th>No. Observations:</th>      <td>   234</td>      <th>  AIC:               </th> <td>  -484.6</td>\n",
       "</tr>\n",
       "<tr>\n",
       "  <th>Df Residuals:</th>          <td>   232</td>      <th>  BIC:               </th> <td>  -477.7</td>\n",
       "</tr>\n",
       "<tr>\n",
       "  <th>Df Model:</th>              <td>     1</td>      <th>                     </th>     <td> </td>   \n",
       "</tr>\n",
       "<tr>\n",
       "  <th>Covariance Type:</th>      <td>nonrobust</td>    <th>                     </th>     <td> </td>   \n",
       "</tr>\n",
       "</table>\n",
       "<table class=\"simpletable\">\n",
       "<tr>\n",
       "    <td></td>       <th>coef</th>     <th>std err</th>      <th>t</th>      <th>P>|t|</th>  <th>[0.025</th>    <th>0.975]</th>  \n",
       "</tr>\n",
       "<tr>\n",
       "  <th>const</th> <td>    0.7303</td> <td>    0.013</td> <td>   55.090</td> <td> 0.000</td> <td>    0.704</td> <td>    0.756</td>\n",
       "</tr>\n",
       "<tr>\n",
       "  <th>x1</th>    <td>-7.595e-05</td> <td> 1.24e-05</td> <td>   -6.101</td> <td> 0.000</td> <td>   -0.000</td> <td>-5.14e-05</td>\n",
       "</tr>\n",
       "</table>\n",
       "<table class=\"simpletable\">\n",
       "<tr>\n",
       "  <th>Omnibus:</th>       <td> 2.637</td> <th>  Durbin-Watson:     </th> <td>   2.027</td>\n",
       "</tr>\n",
       "<tr>\n",
       "  <th>Prob(Omnibus):</th> <td> 0.268</td> <th>  Jarque-Bera (JB):  </th> <td>   1.984</td>\n",
       "</tr>\n",
       "<tr>\n",
       "  <th>Skew:</th>          <td>-0.035</td> <th>  Prob(JB):          </th> <td>   0.371</td>\n",
       "</tr>\n",
       "<tr>\n",
       "  <th>Kurtosis:</th>      <td> 2.554</td> <th>  Cond. No.          </th> <td>2.52e+03</td>\n",
       "</tr>\n",
       "</table><br/><br/>Warnings:<br/>[1] Standard Errors assume that the covariance matrix of the errors is correctly specified.<br/>[2] The condition number is large, 2.52e+03. This might indicate that there are<br/>strong multicollinearity or other numerical problems."
      ],
      "text/plain": [
       "<class 'statsmodels.iolib.summary.Summary'>\n",
       "\"\"\"\n",
       "                            OLS Regression Results                            \n",
       "==============================================================================\n",
       "Dep. Variable:                      y   R-squared:                       0.138\n",
       "Model:                            OLS   Adj. R-squared:                  0.135\n",
       "Method:                 Least Squares   F-statistic:                     37.22\n",
       "Date:                Thu, 12 Sep 2019   Prob (F-statistic):           4.39e-09\n",
       "Time:                        12:53:22   Log-Likelihood:                 244.31\n",
       "No. Observations:                 234   AIC:                            -484.6\n",
       "Df Residuals:                     232   BIC:                            -477.7\n",
       "Df Model:                           1                                         \n",
       "Covariance Type:            nonrobust                                         \n",
       "==============================================================================\n",
       "                 coef    std err          t      P>|t|      [0.025      0.975]\n",
       "------------------------------------------------------------------------------\n",
       "const          0.7303      0.013     55.090      0.000       0.704       0.756\n",
       "x1         -7.595e-05   1.24e-05     -6.101      0.000      -0.000   -5.14e-05\n",
       "==============================================================================\n",
       "Omnibus:                        2.637   Durbin-Watson:                   2.027\n",
       "Prob(Omnibus):                  0.268   Jarque-Bera (JB):                1.984\n",
       "Skew:                          -0.035   Prob(JB):                        0.371\n",
       "Kurtosis:                       2.554   Cond. No.                     2.52e+03\n",
       "==============================================================================\n",
       "\n",
       "Warnings:\n",
       "[1] Standard Errors assume that the covariance matrix of the errors is correctly specified.\n",
       "[2] The condition number is large, 2.52e+03. This might indicate that there are\n",
       "strong multicollinearity or other numerical problems.\n",
       "\"\"\""
      ]
     },
     "metadata": {},
     "output_type": "display_data"
    }
   ],
   "source": [
    "display(res.summary())"
   ]
  },
  {
   "cell_type": "markdown",
   "metadata": {},
   "source": [
    "\n",
    "\n",
    "- 아래 그래프를 보면 위에서 설명한 바와 같이 회귀선을 중심으로 데이터가 멀리 퍼져있습니다.\n",
    "\n",
    "\n",
    "- 이러한 이유 때문에 R^2 값이 낮게 나온 것이라고 해석할 수 있습니다.\n",
    "\n",
    "\n",
    "- 다른 말로 하면 잔차(residual)이 크다고 할 수 있습니다.\n",
    "\n"
   ]
  },
  {
   "cell_type": "code",
   "execution_count": 16,
   "metadata": {
    "slideshow": {
     "slide_type": "slide"
    }
   },
   "outputs": [
    {
     "data": {
      "text/plain": [
       "Text(0, 0.5, 'Annual food expenditure/income ratio')"
      ]
     },
     "execution_count": 16,
     "metadata": {},
     "output_type": "execute_result"
    },
    {
     "data": {
      "image/png": "[encoded data removed]",
      "text/plain": [
       "<Figure size 1080x720 with 1 Axes>"
      ]
     },
     "metadata": {
      "needs_background": "light"
     },
     "output_type": "display_data"
    }
   ],
   "source": [
    "plt.figure(figsize = (15, 10))\n",
    "plt.scatter(df['income'], df['food/income'])\n",
    "plt.plot(df['income'], df['income'] * (-7.595e-05) + 0.7303, color = 'orange', linewidth = 5)\n",
    "plt.title('Income and food expenditure/income ratio', fontsize = 20, pad = 20)\n",
    "plt.xticks(fontsize = 15)\n",
    "plt.yticks(fontsize = 15)\n",
    "plt.xlabel('Annual household income', fontsize = 20, labelpad = 15)\n",
    "plt.ylabel('Annual food expenditure/income ratio', fontsize = 20, labelpad = 15)"
   ]
  },
  {
   "cell_type": "markdown",
   "metadata": {},
   "source": [
    "\n",
    "\n",
    "- 아래는 이해를 돕기 위해 종속변수(income 컬럼)의 값을 도출한 회귀선을 이용해 역으로 계산한 표입니다.\n",
    "\n",
    "\n",
    "- 즉 표본회귀선은 Y = a + b X 을 나타낸다고 할 때, a와 b에 각 계수를, X에 독립변수의 값(income 컬럼)을 대입합니다.\n",
    "\n",
    "\n",
    "- 이 값에 잔차 e_i를 더하면 각각의 food/income 값을 계산할 수 있습니다. 그리고 이 값들은 위 그래프의 파란색 점에 대응합니다.\n",
    "\n",
    "\n",
    "- 다른 말로 하면, 종속변수의 값(파란색 점)은 회귀선(오렌지색 직선)과 잔차(점과 직선 사이의 거리)로 설명된다고 할 수 있습니다.\n",
    "\n"
   ]
  },
  {
   "cell_type": "code",
   "execution_count": 17,
   "metadata": {
    "slideshow": {
     "slide_type": "subslide"
    }
   },
   "outputs": [],
   "source": [
    "df_res = pd.DataFrame({'food/income(Y_i)': df['food/income'], '=': '=', 'intercept(a)': 0.7303, '+': '+'\n",
    "                       ,  'slope(b)': -7.595e-05, '*': '*', 'income(X_i)': df['income'], ' + ': '+', 'residual(e_i)': res.resid})"
   ]
  },
  {
   "cell_type": "code",
   "execution_count": 18,
   "metadata": {
    "slideshow": {
     "slide_type": "subslide"
    }
   },
   "outputs": [
    {
     "data": {
      "text/html": [
       "<div>\n",
       "<style scoped>\n",
       "    .dataframe tbody tr th:only-of-type {\n",
       "        vertical-align: middle;\n",
       "    }\n",
       "\n",
       "    .dataframe tbody tr th {\n",
       "        vertical-align: top;\n",
       "    }\n",
       "\n",
       "    .dataframe thead th {\n",
       "        text-align: right;\n",
       "    }\n",
       "</style>\n",
       "<table border=\"1\" class=\"dataframe\">\n",
       "  <thead>\n",
       "    <tr style=\"text-align: right;\">\n",
       "      <th></th>\n",
       "      <th>food/income(Y_i)</th>\n",
       "      <th>=</th>\n",
       "      <th>intercept(a)</th>\n",
       "      <th>+</th>\n",
       "      <th>slope(b)</th>\n",
       "      <th>*</th>\n",
       "      <th>income(X_i)</th>\n",
       "      <th>+</th>\n",
       "      <th>residual(e_i)</th>\n",
       "    </tr>\n",
       "  </thead>\n",
       "  <tbody>\n",
       "    <tr>\n",
       "      <th>0</th>\n",
       "      <td>0.733469</td>\n",
       "      <td>=</td>\n",
       "      <td>0.7303</td>\n",
       "      <td>+</td>\n",
       "      <td>-0.000076</td>\n",
       "      <td>*</td>\n",
       "      <td>377.058369</td>\n",
       "      <td>+</td>\n",
       "      <td>0.031767</td>\n",
       "    </tr>\n",
       "    <tr>\n",
       "      <th>1</th>\n",
       "      <td>0.625634</td>\n",
       "      <td>=</td>\n",
       "      <td>0.7303</td>\n",
       "      <td>+</td>\n",
       "      <td>-0.000076</td>\n",
       "      <td>*</td>\n",
       "      <td>387.319526</td>\n",
       "      <td>+</td>\n",
       "      <td>-0.075289</td>\n",
       "    </tr>\n",
       "    <tr>\n",
       "      <th>2</th>\n",
       "      <td>0.625634</td>\n",
       "      <td>=</td>\n",
       "      <td>0.7303</td>\n",
       "      <td>+</td>\n",
       "      <td>-0.000076</td>\n",
       "      <td>*</td>\n",
       "      <td>387.319526</td>\n",
       "      <td>+</td>\n",
       "      <td>-0.075289</td>\n",
       "    </tr>\n",
       "    <tr>\n",
       "      <th>3</th>\n",
       "      <td>0.697460</td>\n",
       "      <td>=</td>\n",
       "      <td>0.7303</td>\n",
       "      <td>+</td>\n",
       "      <td>-0.000076</td>\n",
       "      <td>*</td>\n",
       "      <td>408.339934</td>\n",
       "      <td>+</td>\n",
       "      <td>-0.001866</td>\n",
       "    </tr>\n",
       "    <tr>\n",
       "      <th>4</th>\n",
       "      <td>0.647206</td>\n",
       "      <td>=</td>\n",
       "      <td>0.7303</td>\n",
       "      <td>+</td>\n",
       "      <td>-0.000076</td>\n",
       "      <td>*</td>\n",
       "      <td>410.998679</td>\n",
       "      <td>+</td>\n",
       "      <td>-0.051918</td>\n",
       "    </tr>\n",
       "    <tr>\n",
       "      <th>5</th>\n",
       "      <td>0.735217</td>\n",
       "      <td>=</td>\n",
       "      <td>0.7303</td>\n",
       "      <td>+</td>\n",
       "      <td>-0.000076</td>\n",
       "      <td>*</td>\n",
       "      <td>415.440748</td>\n",
       "      <td>+</td>\n",
       "      <td>0.036430</td>\n",
       "    </tr>\n",
       "    <tr>\n",
       "      <th>6</th>\n",
       "      <td>0.797622</td>\n",
       "      <td>=</td>\n",
       "      <td>0.7303</td>\n",
       "      <td>+</td>\n",
       "      <td>-0.000076</td>\n",
       "      <td>*</td>\n",
       "      <td>419.998021</td>\n",
       "      <td>+</td>\n",
       "      <td>0.099182</td>\n",
       "    </tr>\n",
       "    <tr>\n",
       "      <th>7</th>\n",
       "      <td>0.608913</td>\n",
       "      <td>=</td>\n",
       "      <td>0.7303</td>\n",
       "      <td>+</td>\n",
       "      <td>-0.000076</td>\n",
       "      <td>*</td>\n",
       "      <td>420.157651</td>\n",
       "      <td>+</td>\n",
       "      <td>-0.089515</td>\n",
       "    </tr>\n",
       "    <tr>\n",
       "      <th>8</th>\n",
       "      <td>0.753889</td>\n",
       "      <td>=</td>\n",
       "      <td>0.7303</td>\n",
       "      <td>+</td>\n",
       "      <td>-0.000076</td>\n",
       "      <td>*</td>\n",
       "      <td>423.879832</td>\n",
       "      <td>+</td>\n",
       "      <td>0.055743</td>\n",
       "    </tr>\n",
       "    <tr>\n",
       "      <th>9</th>\n",
       "      <td>0.779377</td>\n",
       "      <td>=</td>\n",
       "      <td>0.7303</td>\n",
       "      <td>+</td>\n",
       "      <td>-0.000076</td>\n",
       "      <td>*</td>\n",
       "      <td>433.681329</td>\n",
       "      <td>+</td>\n",
       "      <td>0.081976</td>\n",
       "    </tr>\n",
       "  </tbody>\n",
       "</table>\n",
       "</div>"
      ],
      "text/plain": [
       "   food/income(Y_i)  =  intercept(a)  +  slope(b)  *  income(X_i)  +   \\\n",
       "0          0.733469  =        0.7303  + -0.000076  *   377.058369   +   \n",
       "1          0.625634  =        0.7303  + -0.000076  *   387.319526   +   \n",
       "2          0.625634  =        0.7303  + -0.000076  *   387.319526   +   \n",
       "3          0.697460  =        0.7303  + -0.000076  *   408.339934   +   \n",
       "4          0.647206  =        0.7303  + -0.000076  *   410.998679   +   \n",
       "5          0.735217  =        0.7303  + -0.000076  *   415.440748   +   \n",
       "6          0.797622  =        0.7303  + -0.000076  *   419.998021   +   \n",
       "7          0.608913  =        0.7303  + -0.000076  *   420.157651   +   \n",
       "8          0.753889  =        0.7303  + -0.000076  *   423.879832   +   \n",
       "9          0.779377  =        0.7303  + -0.000076  *   433.681329   +   \n",
       "\n",
       "   residual(e_i)  \n",
       "0       0.031767  \n",
       "1      -0.075289  \n",
       "2      -0.075289  \n",
       "3      -0.001866  \n",
       "4      -0.051918  \n",
       "5       0.036430  \n",
       "6       0.099182  \n",
       "7      -0.089515  \n",
       "8       0.055743  \n",
       "9       0.081976  "
      ]
     },
     "metadata": {},
     "output_type": "display_data"
    }
   ],
   "source": [
    "display(df_res.head(10))"
   ]
  }
 ],
 "metadata": {
  "kernelspec": {
   "display_name": "Python 3",
   "language": "python",
   "name": "python3"
  },
  "language_info": {
   "codemirror_mode": {
    "name": "ipython",
    "version": 3
   },
   "file_extension": ".py",
   "mimetype": "text/x-python",
   "name": "python",
   "nbconvert_exporter": "python",
   "pygments_lexer": "ipython3",
   "version": "3.7.4"
  }
 },
 "nbformat": 4,
 "nbformat_minor": 2
}
